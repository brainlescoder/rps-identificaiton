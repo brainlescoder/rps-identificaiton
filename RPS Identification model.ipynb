{
 "cells": [
  {
   "cell_type": "code",
   "execution_count": 1,
   "metadata": {},
   "outputs": [],
   "source": [
    "import numpy as np\n",
    "import tensorflow as tf\n",
    "import matplotlib.pyplot as plt\n",
    "import os\n",
    "import zipfile\n",
    "from os import getcwd\n",
    "from tensorflow import keras\n",
    "%matplotlib inline"
   ]
  },
  {
   "cell_type": "code",
   "execution_count": 2,
   "metadata": {},
   "outputs": [],
   "source": [
    "local_zip = f'{getcwd()}/rps.zip'\n",
    "zip_ref = zipfile.ZipFile(local_zip, 'r')\n",
    "zip_ref.extractall('/tmp/')\n",
    "zip_ref.close()"
   ]
  },
  {
   "cell_type": "code",
   "execution_count": 3,
   "metadata": {},
   "outputs": [],
   "source": [
    "local_zip = f'{getcwd()}/rps-test-set.zip'\n",
    "zip_ref = zipfile.ZipFile(local_zip, 'r')\n",
    "zip_ref.extractall('/tmp/')\n",
    "zip_ref.close()"
   ]
  },
  {
   "cell_type": "code",
   "execution_count": 4,
   "metadata": {},
   "outputs": [],
   "source": [
    "rock_dir = os.path.join('/tmp/rps/rock')\n",
    "paper_dir = os.path.join('/tmp/rps/paper')\n",
    "scissors_dir = os.path.join('/tmp/rps/scissors')"
   ]
  },
  {
   "cell_type": "code",
   "execution_count": 5,
   "metadata": {},
   "outputs": [],
   "source": [
    "rock_val_dir = os.path.join('/tmp/rps-test-set/rock')\n",
    "paper_val_dir = os.path.join('/tmp/rps-test-set/paper')\n",
    "scissors_val_dir = os.path.join('/tmp/rps-test-set/scissors')"
   ]
  },
  {
   "cell_type": "code",
   "execution_count": 6,
   "metadata": {},
   "outputs": [
    {
     "name": "stdout",
     "output_type": "stream",
     "text": [
      "No of images in rock training dir 840\n",
      "No of images in paper training dir 840\n",
      "No of images in scissor training dir 840\n"
     ]
    }
   ],
   "source": [
    "print('No of images in rock training dir', len(os.listdir(rock_dir)))\n",
    "print('No of images in paper training dir', len(os.listdir(paper_dir)))\n",
    "print('No of images in scissor training dir', len(os.listdir(scissors_dir)))"
   ]
  },
  {
   "cell_type": "code",
   "execution_count": 7,
   "metadata": {},
   "outputs": [
    {
     "name": "stdout",
     "output_type": "stream",
     "text": [
      "No of images in rock validation dir 124\n",
      "No of images in paper validation dir 124\n",
      "No of images in scissor validation dir 124\n"
     ]
    }
   ],
   "source": [
    "print('No of images in rock validation dir', len(os.listdir(rock_val_dir)))\n",
    "print('No of images in paper validation dir', len(os.listdir(paper_val_dir)))\n",
    "print('No of images in scissor validation dir', len(os.listdir(scissors_val_dir)))"
   ]
  },
  {
   "cell_type": "code",
   "execution_count": 8,
   "metadata": {},
   "outputs": [],
   "source": [
    "from tensorflow.keras.preprocessing.image import ImageDataGenerator\n",
    "from tensorflow.keras.preprocessing import image"
   ]
  },
  {
   "cell_type": "code",
   "execution_count": 9,
   "metadata": {},
   "outputs": [],
   "source": [
    "#FOR DATA AUGMENTATION "
   ]
  },
  {
   "cell_type": "code",
   "execution_count": 10,
   "metadata": {},
   "outputs": [],
   "source": [
    "train_datagen = ImageDataGenerator(\n",
    "    1./ 255,\n",
    "    zoom_range = 0.2,\n",
    "    width_shift_range = 0.2,\n",
    "    height_shift_range = 0.2,\n",
    "    rotation_range = 40,\n",
    "    horizontal_flip = True,\n",
    "    shear_range = 0.2,\n",
    "    fill_mode = 'nearest'\n",
    "    \n",
    ")"
   ]
  },
  {
   "cell_type": "code",
   "execution_count": 11,
   "metadata": {},
   "outputs": [],
   "source": [
    "#CREATING TRAINING DATA AND VALIDATION DATA GENRATORS TO LOAD INTO THE MODEL"
   ]
  },
  {
   "cell_type": "code",
   "execution_count": 12,
   "metadata": {},
   "outputs": [],
   "source": [
    "val_datagen = ImageDataGenerator(\n",
    "    1./ 255\n",
    ")"
   ]
  },
  {
   "cell_type": "code",
   "execution_count": 13,
   "metadata": {},
   "outputs": [
    {
     "name": "stdout",
     "output_type": "stream",
     "text": [
      "Found 2520 images belonging to 3 classes.\n"
     ]
    }
   ],
   "source": [
    "train_generator = train_datagen.flow_from_directory(\n",
    "    '/tmp/rps',\n",
    "    batch_size = 126,\n",
    "    target_size  = (150, 150),\n",
    "    class_mode = 'categorical'\n",
    ")"
   ]
  },
  {
   "cell_type": "code",
   "execution_count": 14,
   "metadata": {},
   "outputs": [
    {
     "name": "stdout",
     "output_type": "stream",
     "text": [
      "Found 372 images belonging to 3 classes.\n"
     ]
    }
   ],
   "source": [
    "val_generator = val_datagen.flow_from_directory(\n",
    "    '/tmp/rps-test-set',\n",
    "    batch_size = 126,\n",
    "    target_size = (150, 150),\n",
    "    class_mode = 'categorical'\n",
    ")"
   ]
  },
  {
   "cell_type": "code",
   "execution_count": 15,
   "metadata": {},
   "outputs": [],
   "source": [
    "#CREATING A CALLBACK WHICH WOULD STOP MY TRAINING AT THE END OF 98% ACCURACY"
   ]
  },
  {
   "cell_type": "code",
   "execution_count": 16,
   "metadata": {},
   "outputs": [],
   "source": [
    "class my_callback(keras.callbacks.Callback):\n",
    "    def on_epoch_end(self, epoch, logs = {}):\n",
    "        if(logs.get('acc')> 0.98):\n",
    "            print('You have reached 98% accuracy')\n",
    "            self.model.stop_training = True\n",
    "callback = my_callback()"
   ]
  },
  {
   "cell_type": "code",
   "execution_count": 17,
   "metadata": {},
   "outputs": [],
   "source": [
    "#USING 4 CONVOLUTIONAL LAYERS AND A DROPOUT TOO(SO MY VALIDATION DATA DOESN'T OVERFIT)"
   ]
  },
  {
   "cell_type": "code",
   "execution_count": 18,
   "metadata": {},
   "outputs": [],
   "source": [
    "model = keras.Sequential([\n",
    "    keras.layers.Conv2D(64, (3, 3), input_shape = (150, 150, 3), activation = 'relu'),\n",
    "    keras.layers.MaxPool2D(2, 2),\n",
    "    keras.layers.Conv2D(64, (3, 3), activation = 'relu'),\n",
    "    keras.layers.MaxPool2D(2, 2),\n",
    "    keras.layers.Conv2D(128, (3, 3), activation = 'relu'),\n",
    "    keras.layers.MaxPool2D(2, 2),\n",
    "    keras.layers.Conv2D(128, (3, 3), activation = 'relu'),\n",
    "    keras.layers.MaxPool2D(2, 2),\n",
    "    keras.layers.Flatten(),\n",
    "    keras.layers.Dropout(0.5),\n",
    "    keras.layers.Dense(512, activation = 'relu'),\n",
    "    keras.layers.Dense(3, activation = 'softmax')\n",
    "])"
   ]
  },
  {
   "cell_type": "code",
   "execution_count": 19,
   "metadata": {},
   "outputs": [
    {
     "name": "stdout",
     "output_type": "stream",
     "text": [
      "Model: \"sequential\"\n",
      "_________________________________________________________________\n",
      "Layer (type)                 Output Shape              Param #   \n",
      "=================================================================\n",
      "conv2d (Conv2D)              (None, 148, 148, 64)      1792      \n",
      "_________________________________________________________________\n",
      "max_pooling2d (MaxPooling2D) (None, 74, 74, 64)        0         \n",
      "_________________________________________________________________\n",
      "conv2d_1 (Conv2D)            (None, 72, 72, 64)        36928     \n",
      "_________________________________________________________________\n",
      "max_pooling2d_1 (MaxPooling2 (None, 36, 36, 64)        0         \n",
      "_________________________________________________________________\n",
      "conv2d_2 (Conv2D)            (None, 34, 34, 128)       73856     \n",
      "_________________________________________________________________\n",
      "max_pooling2d_2 (MaxPooling2 (None, 17, 17, 128)       0         \n",
      "_________________________________________________________________\n",
      "conv2d_3 (Conv2D)            (None, 15, 15, 128)       147584    \n",
      "_________________________________________________________________\n",
      "max_pooling2d_3 (MaxPooling2 (None, 7, 7, 128)         0         \n",
      "_________________________________________________________________\n",
      "flatten (Flatten)            (None, 6272)              0         \n",
      "_________________________________________________________________\n",
      "dropout (Dropout)            (None, 6272)              0         \n",
      "_________________________________________________________________\n",
      "dense (Dense)                (None, 512)               3211776   \n",
      "_________________________________________________________________\n",
      "dense_1 (Dense)              (None, 3)                 1539      \n",
      "=================================================================\n",
      "Total params: 3,473,475\n",
      "Trainable params: 3,473,475\n",
      "Non-trainable params: 0\n",
      "_________________________________________________________________\n"
     ]
    }
   ],
   "source": [
    "model.summary()"
   ]
  },
  {
   "cell_type": "code",
   "execution_count": 20,
   "metadata": {},
   "outputs": [],
   "source": [
    "from tensorflow.keras.optimizers import RMSprop\n",
    "model.compile(optimizer = RMSprop(lr = 0.0001), loss = 'categorical_crossentropy', metrics = ['acc'])"
   ]
  },
  {
   "cell_type": "code",
   "execution_count": 21,
   "metadata": {},
   "outputs": [
    {
     "name": "stdout",
     "output_type": "stream",
     "text": [
      "WARNING:tensorflow:From <ipython-input-21-addff2b043e8>:7: Model.fit_generator (from tensorflow.python.keras.engine.training) is deprecated and will be removed in a future version.\n",
      "Instructions for updating:\n",
      "Please use Model.fit, which supports generators.\n"
     ]
    },
    {
     "name": "stderr",
     "output_type": "stream",
     "text": [
      "C:\\Users\\QUANTUM\\Anaconda3\\envs\\Tensorflow\\lib\\site-packages\\keras_preprocessing\\image\\image_data_generator.py:716: UserWarning: This ImageDataGenerator specifies `featurewise_center`, but it hasn't been fit on any training data. Fit it first by calling `.fit(numpy_data)`.\n",
      "  warnings.warn('This ImageDataGenerator specifies '\n"
     ]
    },
    {
     "name": "stdout",
     "output_type": "stream",
     "text": [
      "WARNING:tensorflow:sample_weight modes were coerced from\n",
      "  ...\n",
      "    to  \n",
      "  ['...']\n",
      "WARNING:tensorflow:sample_weight modes were coerced from\n",
      "  ...\n",
      "    to  \n",
      "  ['...']\n",
      "Train for 20 steps, validate for 3 steps\n",
      "Epoch 1/25\n"
     ]
    },
    {
     "name": "stderr",
     "output_type": "stream",
     "text": [
      "C:\\Users\\QUANTUM\\Anaconda3\\envs\\Tensorflow\\lib\\site-packages\\keras_preprocessing\\image\\image_data_generator.py:716: UserWarning: This ImageDataGenerator specifies `featurewise_center`, but it hasn't been fit on any training data. Fit it first by calling `.fit(numpy_data)`.\n",
      "  warnings.warn('This ImageDataGenerator specifies '\n"
     ]
    },
    {
     "name": "stdout",
     "output_type": "stream",
     "text": [
      "20/20 [==============================] - 117s 6s/step - loss: 13.3101 - acc: 0.3714 - val_loss: 1.2016 - val_acc: 0.4032\n",
      "Epoch 2/25\n",
      "20/20 [==============================] - 116s 6s/step - loss: 1.7102 - acc: 0.4246 - val_loss: 0.9132 - val_acc: 0.4677\n",
      "Epoch 3/25\n",
      "20/20 [==============================] - 115s 6s/step - loss: 1.0921 - acc: 0.4857 - val_loss: 0.8669 - val_acc: 0.5161\n",
      "Epoch 4/25\n",
      "20/20 [==============================] - 114s 6s/step - loss: 1.0402 - acc: 0.5433 - val_loss: 0.8570 - val_acc: 0.5995\n",
      "Epoch 5/25\n",
      "20/20 [==============================] - 115s 6s/step - loss: 0.8651 - acc: 0.6159 - val_loss: 0.6164 - val_acc: 0.8441\n",
      "Epoch 6/25\n",
      "20/20 [==============================] - 116s 6s/step - loss: 0.8454 - acc: 0.6175 - val_loss: 0.6779 - val_acc: 0.7097\n",
      "Epoch 7/25\n",
      "20/20 [==============================] - 114s 6s/step - loss: 0.7574 - acc: 0.6683 - val_loss: 0.5310 - val_acc: 0.8145\n",
      "Epoch 8/25\n",
      "20/20 [==============================] - 117s 6s/step - loss: 0.6844 - acc: 0.7159 - val_loss: 0.4254 - val_acc: 0.8978\n",
      "Epoch 9/25\n",
      "20/20 [==============================] - 122s 6s/step - loss: 0.6776 - acc: 0.7095 - val_loss: 0.4163 - val_acc: 0.8065\n",
      "Epoch 10/25\n",
      "20/20 [==============================] - 123s 6s/step - loss: 0.6559 - acc: 0.7468 - val_loss: 0.4629 - val_acc: 0.8145\n",
      "Epoch 11/25\n",
      "20/20 [==============================] - 125s 6s/step - loss: 0.5865 - acc: 0.7659 - val_loss: 0.4882 - val_acc: 0.7984\n",
      "Epoch 12/25\n",
      "20/20 [==============================] - 122s 6s/step - loss: 0.5613 - acc: 0.7786 - val_loss: 0.3895 - val_acc: 0.8441\n",
      "Epoch 13/25\n",
      "20/20 [==============================] - 127s 6s/step - loss: 0.5440 - acc: 0.7881 - val_loss: 0.6851 - val_acc: 0.6774\n",
      "Epoch 14/25\n",
      "20/20 [==============================] - 123s 6s/step - loss: 0.5160 - acc: 0.7786 - val_loss: 0.4262 - val_acc: 0.7849\n",
      "Epoch 15/25\n",
      "20/20 [==============================] - 125s 6s/step - loss: 0.4842 - acc: 0.8115 - val_loss: 0.2674 - val_acc: 0.8844\n",
      "Epoch 16/25\n",
      "20/20 [==============================] - 126s 6s/step - loss: 0.4596 - acc: 0.8159 - val_loss: 0.2581 - val_acc: 0.9086\n",
      "Epoch 17/25\n",
      "20/20 [==============================] - 123s 6s/step - loss: 0.3938 - acc: 0.8468 - val_loss: 0.1997 - val_acc: 0.9247\n",
      "Epoch 18/25\n",
      "20/20 [==============================] - 126s 6s/step - loss: 0.4329 - acc: 0.8401 - val_loss: 0.1518 - val_acc: 0.9731\n",
      "Epoch 19/25\n",
      "20/20 [==============================] - 123s 6s/step - loss: 0.3582 - acc: 0.8591 - val_loss: 0.1638 - val_acc: 0.9516\n",
      "Epoch 20/25\n",
      "20/20 [==============================] - 125s 6s/step - loss: 0.4308 - acc: 0.8472 - val_loss: 0.2183 - val_acc: 0.9274\n",
      "Epoch 21/25\n",
      "20/20 [==============================] - 118s 6s/step - loss: 0.3319 - acc: 0.8798 - val_loss: 0.1639 - val_acc: 0.9651\n",
      "Epoch 22/25\n",
      "20/20 [==============================] - 119s 6s/step - loss: 0.3546 - acc: 0.8651 - val_loss: 0.1693 - val_acc: 0.9220\n",
      "Epoch 23/25\n",
      "20/20 [==============================] - 117s 6s/step - loss: 0.3832 - acc: 0.8730 - val_loss: 0.1645 - val_acc: 0.9812\n",
      "Epoch 24/25\n",
      "20/20 [==============================] - 117s 6s/step - loss: 0.3070 - acc: 0.8933 - val_loss: 0.1438 - val_acc: 0.9651\n",
      "Epoch 25/25\n",
      "20/20 [==============================] - 117s 6s/step - loss: 0.3248 - acc: 0.8766 - val_loss: 0.1790 - val_acc: 0.9543\n"
     ]
    }
   ],
   "source": [
    "from PIL import Image\n",
    "history = model.fit_generator(\n",
    "    train_generator,\n",
    "    epochs = 25,\n",
    "    validation_data = val_generator,\n",
    "    callbacks = [callback],\n",
    "    verbose = 1\n",
    ")"
   ]
  },
  {
   "cell_type": "code",
   "execution_count": 22,
   "metadata": {},
   "outputs": [
    {
     "data": {
      "text/plain": [
       "<matplotlib.legend.Legend at 0x1815c8cc508>"
      ]
     },
     "execution_count": 22,
     "metadata": {},
     "output_type": "execute_result"
    },
    {
     "data": {
      "image/png": "[encoded data removed]",
      "text/plain": [
       "<Figure size 432x288 with 1 Axes>"
      ]
     },
     "metadata": {
      "needs_background": "light"
     },
     "output_type": "display_data"
    }
   ],
   "source": [
    "acc = history.history['acc']\n",
    "val_acc = history.history['val_acc']\n",
    "loss = history.history['loss']\n",
    "val_loss = history.history['val_loss']\n",
    "\n",
    "epochs = range(len(acc))\n",
    "\n",
    "plt.plot(epochs, acc, 'r', label = 'Training Accuracy')\n",
    "plt.plot(epochs, val_acc, 'b', label = 'Validation Accuracy')\n",
    "\n",
    "plt.title('Training Accuracy vs Validation Accuracy')\n",
    "plt.legend(loc = 0)"
   ]
  },
  {
   "cell_type": "code",
   "execution_count": 23,
   "metadata": {},
   "outputs": [
    {
     "data": {
      "text/plain": [
       "<matplotlib.legend.Legend at 0x1815c9d38c8>"
      ]
     },
     "execution_count": 23,
     "metadata": {},
     "output_type": "execute_result"
    },
    {
     "data": {
      "image/png": "[encoded data removed]",
      "text/plain": [
       "<Figure size 432x288 with 1 Axes>"
      ]
     },
     "metadata": {
      "needs_background": "light"
     },
     "output_type": "display_data"
    }
   ],
   "source": [
    "plt.plot(epochs, loss, 'r', label = 'Training Loss')\n",
    "plt.plot(epochs, val_loss, 'b', label = 'Validation Loss')\n",
    "plt.title('Training loss vs validation loss')\n",
    "plt.legend(loc =0)"
   ]
  },
  {
   "cell_type": "code",
   "execution_count": 24,
   "metadata": {},
   "outputs": [],
   "source": [
    "test_dir = f'{getcwd()}/rps-validation.zip'"
   ]
  },
  {
   "cell_type": "code",
   "execution_count": 25,
   "metadata": {},
   "outputs": [],
   "source": [
    "zip_ref = zipfile.ZipFile(test_dir)\n",
    "zip_ref.extractall('/tmp/')\n",
    "zip_ref.close()"
   ]
  },
  {
   "cell_type": "code",
   "execution_count": 26,
   "metadata": {},
   "outputs": [
    {
     "data": {
      "text/plain": [
       "36"
      ]
     },
     "execution_count": 26,
     "metadata": {},
     "output_type": "execute_result"
    }
   ],
   "source": [
    "len(os.listdir('/tmp/'))"
   ]
  },
  {
   "cell_type": "code",
   "execution_count": 27,
   "metadata": {
    "scrolled": true
   },
   "outputs": [
    {
     "name": "stdout",
     "output_type": "stream",
     "text": [
      "[[0.332466   0.34029514 0.32723886]]\n"
     ]
    },
    {
     "data": {
      "image/png": "[encoded data removed]",
      "text/plain": [
       "<Figure size 432x288 with 1 Axes>"
      ]
     },
     "metadata": {
      "needs_background": "light"
     },
     "output_type": "display_data"
    }
   ],
   "source": [
    "img1 = image.load_img('/tmp/rps-validation/paper6.png', target_size=(150, 150))\n",
    "img = image.img_to_array(img1)\n",
    "img = img/ 255.\n",
    "img = np.expand_dims(img, axis=0)\n",
    "images = np.vstack([img])\n",
    "prediction = model.predict(images, batch_size=10)\n",
    "plt.imshow(img1)\n",
    "print(prediction)\n"
   ]
  },
  {
   "cell_type": "code",
   "execution_count": 28,
   "metadata": {},
   "outputs": [],
   "source": [
    "from tensorflow.keras.models import load_model"
   ]
  },
  {
   "cell_type": "code",
   "execution_count": 29,
   "metadata": {},
   "outputs": [],
   "source": [
    "model.save('rpsidmain.h5')"
   ]
  },
  {
   "cell_type": "code",
   "execution_count": 30,
   "metadata": {},
   "outputs": [],
   "source": [
    "my_model = load_model('rpsidmain.h5')"
   ]
  },
  {
   "cell_type": "code",
   "execution_count": null,
   "metadata": {},
   "outputs": [],
   "source": []
  },
  {
   "cell_type": "code",
   "execution_count": null,
   "metadata": {},
   "outputs": [],
   "source": []
  }
 ],
 "metadata": {
  "kernelspec": {
   "display_name": "Python 3",
   "language": "python",
   "name": "python3"
  },
  "language_info": {
   "codemirror_mode": {
    "name": "ipython",
    "version": 3
   },
   "file_extension": ".py",
   "mimetype": "text/x-python",
   "name": "python",
   "nbconvert_exporter": "python",
   "pygments_lexer": "ipython3",
   "version": "3.7.7"
  }
 },
 "nbformat": 4,
 "nbformat_minor": 4
}
